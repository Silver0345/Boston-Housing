{
 "cells": [
  {
   "cell_type": "code",
   "execution_count": 48,
   "id": "b2fc7db2-5bfb-4ffa-b3b8-23bf93f8be1d",
   "metadata": {},
   "outputs": [],
   "source": [
    "import pandas as pd\n",
    "import numpy as np\n",
    "import matplotlib.pyplot as plt\n",
    "import seaborn as sns\n",
    "import warnings\n",
    "warnings.filterwarnings('ignore')\n",
    "%matplotlib inline\n",
    "\n",
    "from sklearn.linear_model import LinearRegression\n",
    "from sklearn.metrics import mean_squared_error"
   ]
  },
  {
   "cell_type": "code",
   "execution_count": 23,
   "id": "fd3eb214-a3a5-48f0-ac95-3b7497eac482",
   "metadata": {},
   "outputs": [],
   "source": [
    "# Gather Data\n",
    "data_url = \"http://lib.stat.cmu.edu/datasets/boston\"\n",
    "raw_df = pd.read_csv(data_url, sep=\"\\s+\", skiprows=22, header=None)\n",
    "values = np.hstack([raw_df.values[::2, :], raw_df.values[1::2, :2]])\n",
    "price = raw_df.values[1::2, 2]\n",
    "\n",
    "features = ['CRIM', 'ZN', 'INDUS', 'CHAS', 'NOX', 'RM', 'AGE', 'DIS', 'RAD',\n",
    "                'TAX', 'PTRATIO', 'B', 'LSTAT']\n",
    "# truning new values array into a dataframe\n",
    "values = pd.DataFrame(data= values, columns=features)\n",
    "\n",
    "# turning price into a dataframe\n",
    "price = pd.DataFrame(data=price, columns=['PRICE'])\n",
    "# merging data and target into a new dataframe\n",
    "data = pd.concat([values, price], axis=1)\n",
    "new_features = values.drop(['INDUS','AGE'],axis=1)\n",
    "new_features.head()\n",
    "\n",
    "log_prices = np.log(price)\n",
    "target = log_prices"
   ]
  },
  {
   "cell_type": "code",
   "execution_count": 21,
   "id": "d531a97d-8609-4d86-b11e-2881f429f392",
   "metadata": {},
   "outputs": [
    {
     "data": {
      "text/plain": [
       "array([[3.61352356e+00, 1.13636364e+01, 6.91699605e-02, 5.54695059e-01,\n",
       "        6.28463439e+00, 3.79504269e+00, 9.54940711e+00, 4.08237154e+02,\n",
       "        1.84555336e+01, 3.56674032e+02, 1.26530632e+01]])"
      ]
     },
     "execution_count": 21,
     "metadata": {},
     "output_type": "execute_result"
    }
   ],
   "source": [
    "property_stats = new_features.mean().values.reshape(1,11)\n",
    "property_stats"
   ]
  },
  {
   "cell_type": "code",
   "execution_count": 27,
   "id": "ad5958cf-f4b6-4377-a50e-44c97cc70ed6",
   "metadata": {},
   "outputs": [],
   "source": [
    "ln_reg = LinearRegression().fit(new_features,target)\n",
    "fitted_val = ln_reg.predict(new_features)\n",
    "\n",
    "# MSE and RMSE \n",
    "mse = mean_squared_error(target, fitted_val)\n",
    "rmse = np.sqrt(mse)"
   ]
  },
  {
   "cell_type": "code",
   "execution_count": 33,
   "id": "f19768fb-aa60-4363-8519-52c0a23364f5",
   "metadata": {},
   "outputs": [],
   "source": [
    "CRIM_IDX = 1\n",
    "CHAS_IDX = 2\n",
    "RM_IDX = 4\n",
    "PTRATIO_IDX = 8"
   ]
  },
  {
   "cell_type": "code",
   "execution_count": 46,
   "id": "ad89f68d-22b1-4bb7-9cab-8b8d8e73bb3d",
   "metadata": {},
   "outputs": [],
   "source": [
    "def get_log_estimate(numb_rooms,\n",
    "                    students_per_classroom, next_to_river=False,\n",
    "                    high_confidence=True):\n",
    "    \n",
    "    # Configure property\n",
    "    property_stats[0][RM_IDX] = numb_rooms\n",
    "    property_stats[0][PTRATIO_IDX] = students_per_classroom\n",
    "    \n",
    "    if next_to_river:\n",
    "        property_stats[0][CHAS_IDX] = 1\n",
    "    else:\n",
    "        property_stats[0][CHAS_IDX] = 0\n",
    "    \n",
    "    \n",
    "    # Make prediction\n",
    "    log_estimate = ln_reg.predict(property_stats)\n",
    "    \n",
    "    # Calc Range\n",
    "    \n",
    "    if high_confidence:\n",
    "        upper_bound = log_estimate + 2*rmse\n",
    "        lower_bound = log_estimate - 2*rmse\n",
    "        interval = 95\n",
    "    else:\n",
    "        upper_bound = log_estimate + 2*rmse\n",
    "        lower_bound = log_estimate - 2*rmse\n",
    "        interval = 68\n",
    "        \n",
    "    return log_estimate, upper_bound, lower_bound, interval"
   ]
  },
  {
   "cell_type": "code",
   "execution_count": 50,
   "id": "629cbc4f-0439-4701-91ab-9400cd5dc63a",
   "metadata": {},
   "outputs": [
    {
     "data": {
      "text/plain": [
       "(array([[2.77675819]]), array([[3.15178246]]), array([[2.40173392]]), 68)"
      ]
     },
     "execution_count": 50,
     "metadata": {},
     "output_type": "execute_result"
    }
   ],
   "source": [
    "get_log_estimate(3, 20, next_to_river=True, high_confidence=False)"
   ]
  },
  {
   "cell_type": "code",
   "execution_count": 54,
   "id": "aff8a1be-2fc5-48e2-a7fd-99bddfb19af5",
   "metadata": {},
   "outputs": [
    {
     "data": {
      "text/plain": [
       "21.2"
      ]
     },
     "execution_count": 54,
     "metadata": {},
     "output_type": "execute_result"
    }
   ],
   "source": [
    "np.median(price)"
   ]
  },
  {
   "cell_type": "code",
   "execution_count": 72,
   "id": "60500660-2b04-45ef-9728-cb6d92828452",
   "metadata": {},
   "outputs": [],
   "source": [
    "ZILLOW_MEDIAN_PRICE = 583.3\n",
    "SCALE_FACTOR = ZILLOW_MEDIAN_PRICE / np.median(price)\n",
    "\n",
    "def get_dollar_estimate(rm, ptratio, chas=False, large_range=True):\n",
    "    \"\"\" Estiamte Price of Property In Boston\n",
    "        \n",
    "        Keyword Arguments:\n",
    "        \n",
    "        rm --- number of rooms in the property\n",
    "        ptratios --- number of students per teacher in the classroom\n",
    "        chas --- True if the property is next to Charles river, False otherwise.\n",
    "        large_range --- True for a 95% prediction interval, False for a 68% prediction interval\n",
    "    \"\"\"\n",
    "    \n",
    "    if rm < 1 or ptratio < 1:\n",
    "        print(\"The Value is Unrealistic. Please Try Again!\")\n",
    "        return\n",
    "    \n",
    "    log_est, upper, lower, conf = get_log_estimate(rm, \n",
    "                                                   students_per_classroom=ptratio, \n",
    "                                                   next_to_river=chas, \n",
    "                                                   high_confidence=large_range)\n",
    "\n",
    "    # Convert to today's dollars\n",
    "    dollar_est = np.e**log_est * 1000 * SCALE_FACTOR\n",
    "    dollar_hi = np.e**upper * 1000 * SCALE_FACTOR\n",
    "    dollar_low = np.e**lower * 1000 * SCALE_FACTOR\n",
    "\n",
    "\n",
    "    # Round the dollar values to the nearest thousand\n",
    "    round_est = np.around(dollar_est,-3)\n",
    "    round_hi = np.around(dollar_hi,-3)\n",
    "    round_low = np.around(dollar_low,-3)\n",
    "\n",
    "    print(f\"The estimated property value is ${round_est[0][0]}.\")\n",
    "    print(f\"At {conf}% confidance the valuation range is.\")\n",
    "    print(f\"USD ${round_low[0][0]} at the lower end to USD ${round_hi[0][0]} at the high end.\")"
   ]
  },
  {
   "cell_type": "code",
   "execution_count": 71,
   "id": "4be438e2-adf8-4aef-a47d-21f131db182d",
   "metadata": {},
   "outputs": [
    {
     "name": "stdout",
     "output_type": "stream",
     "text": [
      "The Value is Unrealistic. Please Try Again!\n"
     ]
    }
   ],
   "source": [
    "get_dollar_estimate(rm=3, ptratio=0, chas=False, large_range=True)"
   ]
  },
  {
   "cell_type": "code",
   "execution_count": 74,
   "id": "f0fcc287-75a3-4f00-894c-639dab0537f4",
   "metadata": {},
   "outputs": [
    {
     "name": "stdout",
     "output_type": "stream",
     "text": [
      "The estimated property value is $783000.0.\n",
      "At 95% confidance the valuation range is.\n",
      "USD $538000.0 at the lower end to USD $1139000.0 at the high end.\n"
     ]
    }
   ],
   "source": [
    "import boston_valuation as val\n",
    "val.get_dollar_estimate(6, 12, True)"
   ]
  },
  {
   "cell_type": "code",
   "execution_count": null,
   "id": "200c703a-b9be-4acc-81b7-aab145e531f7",
   "metadata": {},
   "outputs": [],
   "source": []
  }
 ],
 "metadata": {
  "kernelspec": {
   "display_name": "Python 3 (ipykernel)",
   "language": "python",
   "name": "python3"
  },
  "language_info": {
   "codemirror_mode": {
    "name": "ipython",
    "version": 3
   },
   "file_extension": ".py",
   "mimetype": "text/x-python",
   "name": "python",
   "nbconvert_exporter": "python",
   "pygments_lexer": "ipython3",
   "version": "3.9.13"
  }
 },
 "nbformat": 4,
 "nbformat_minor": 5
}
